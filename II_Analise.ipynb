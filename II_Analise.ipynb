{
 "cells": [
  {
   "attachments": {},
   "cell_type": "markdown",
   "metadata": {},
   "source": [
    "#### Ambiente"
   ]
  },
  {
   "cell_type": "code",
   "execution_count": 1,
   "metadata": {},
   "outputs": [],
   "source": [
    "# Bibliotecas\n",
    "import pandas as pd"
   ]
  },
  {
   "cell_type": "code",
   "execution_count": 2,
   "metadata": {},
   "outputs": [],
   "source": [
    "# Parametros opcionais\n",
    "pd.set_option('display.max_columns', None)"
   ]
  },
  {
   "cell_type": "code",
   "execution_count": 3,
   "metadata": {},
   "outputs": [],
   "source": [
    "# Funções\n",
    "def analise(df,col):\n",
    "\n",
    "    print(\"Tipo:\", df[col].dtype)\n",
    "    print(\"Registros:\", df[col].count(),\\\n",
    "          \"-\", round((df[col].count()/df.shape[0])*100,2),\"%\")\n",
    "\n",
    "    # Caso coluna seja numerica realizar as etapas abaixo\n",
    "    if df[col].dtype == 'int64':\n",
    "        print(\"Min:\", df[col].min(),\\\n",
    "              \"Max:\", df[col].max())\n",
    "\n",
    "    if df[col].dtype == 'float64':\n",
    "        print(\"Min:\", round(df[col].min(),2),\\\n",
    "              \"Max:\", round(df[col].max(),2))\n",
    "\n",
    "    print(\"Valores Unicos:\")\n",
    "    print(df[col].value_counts())"
   ]
  },
  {
   "cell_type": "code",
   "execution_count": 4,
   "metadata": {},
   "outputs": [],
   "source": [
    "# Leitura dos arquivos\n",
    "compras = pd.read_csv('../HubFinanceiro/Data/compras.csv',sep=',',encoding='utf-8')\n",
    "fatura = pd.read_csv('../HubFinanceiro/Data/fatura.csv',sep=',',encoding='utf-8')"
   ]
  },
  {
   "attachments": {},
   "cell_type": "markdown",
   "metadata": {},
   "source": [
    "#### Entendimento dos campos"
   ]
  },
  {
   "attachments": {},
   "cell_type": "markdown",
   "metadata": {},
   "source": [
    "##### Compras"
   ]
  },
  {
   "cell_type": "code",
   "execution_count": null,
   "metadata": {},
   "outputs": [],
   "source": [
    "# Colunas no dataframe\n",
    "compras.columns"
   ]
  },
  {
   "cell_type": "code",
   "execution_count": null,
   "metadata": {},
   "outputs": [],
   "source": [
    "# Amostra dos 5 primeiros registros\n",
    "compras.head(5)"
   ]
  },
  {
   "cell_type": "code",
   "execution_count": null,
   "metadata": {},
   "outputs": [],
   "source": [
    "analise(compras,'description')\n",
    "# Campo que descreve a compra util "
   ]
  },
  {
   "cell_type": "code",
   "execution_count": null,
   "metadata": {},
   "outputs": [],
   "source": [
    "analise(compras,'category')\n",
    "# Campo sem relevancia para analise"
   ]
  },
  {
   "cell_type": "code",
   "execution_count": null,
   "metadata": {},
   "outputs": [],
   "source": [
    "analise(compras,'amount')\n",
    "# Tras o valor de compra dos produtos, necessita de tratamento para casas decimais"
   ]
  },
  {
   "cell_type": "code",
   "execution_count": null,
   "metadata": {},
   "outputs": [],
   "source": [
    "analise(compras,'time')\n",
    "# Data e hora exata da compra com fuso horario"
   ]
  },
  {
   "cell_type": "code",
   "execution_count": null,
   "metadata": {},
   "outputs": [],
   "source": [
    "analise(compras,'source')\n",
    "# Forma de processamento da compra, sem relevancia para analise"
   ]
  },
  {
   "cell_type": "code",
   "execution_count": null,
   "metadata": {},
   "outputs": [],
   "source": [
    "analise(compras,'title')\n",
    "# Categoria do produto comprado "
   ]
  },
  {
   "cell_type": "code",
   "execution_count": null,
   "metadata": {},
   "outputs": [],
   "source": [
    "analise(compras,'amount_without_iof')\n",
    "# Valor da compra sem IOF"
   ]
  },
  {
   "cell_type": "code",
   "execution_count": null,
   "metadata": {},
   "outputs": [],
   "source": [
    "analise(compras,'account')\n",
    "# Conta do usuario autor da compra"
   ]
  },
  {
   "cell_type": "code",
   "execution_count": null,
   "metadata": {},
   "outputs": [],
   "source": [
    "analise(compras,'id')\n",
    "# Codigo de indentificacao da compra, pode ser utilizado como chave"
   ]
  },
  {
   "cell_type": "code",
   "execution_count": null,
   "metadata": {},
   "outputs": [],
   "source": [
    "analise(compras,'tokenized')\n",
    "# Informa as compras que necessitaram de token"
   ]
  },
  {
   "cell_type": "code",
   "execution_count": null,
   "metadata": {},
   "outputs": [],
   "source": [
    "analise(compras,'href')\n",
    "# Id de transacao no servidor, sem relevancia para analise"
   ]
  },
  {
   "cell_type": "code",
   "execution_count": null,
   "metadata": {},
   "outputs": [],
   "source": [
    "analise(compras,'details.status')\n",
    "# Campo sem relevancia para analise"
   ]
  },
  {
   "cell_type": "code",
   "execution_count": null,
   "metadata": {},
   "outputs": [],
   "source": [
    "analise(compras,'details.subcategory')\n",
    "# Informa se a compra foi feita fisicamente ou nao"
   ]
  },
  {
   "cell_type": "code",
   "execution_count": null,
   "metadata": {},
   "outputs": [],
   "source": [
    "analise(compras,'_links.self.href')\n",
    "# Id de transacao no servidor, sem relevancia para analise"
   ]
  },
  {
   "cell_type": "code",
   "execution_count": null,
   "metadata": {},
   "outputs": [],
   "source": [
    "analise(compras,'details.charges.count')\n",
    "# Quantidade de Parcelas da compra, valores nulos sao de compras a vista (1x)"
   ]
  },
  {
   "cell_type": "code",
   "execution_count": null,
   "metadata": {},
   "outputs": [],
   "source": [
    "analise(compras,'details.charges.amount')\n",
    "# Valor das parcelas valores nulos sao de compras a vista (1x)"
   ]
  },
  {
   "cell_type": "code",
   "execution_count": null,
   "metadata": {},
   "outputs": [],
   "source": [
    "analise(compras, 'details.fx.currency_origin')\n",
    "# Moeda de Pagamento "
   ]
  },
  {
   "cell_type": "code",
   "execution_count": null,
   "metadata": {},
   "outputs": [],
   "source": [
    "analise(compras, 'details.fx.amount_origin')\n",
    "# Valor de transacao da moeda de origem, sem relevancia para analise"
   ]
  },
  {
   "cell_type": "code",
   "execution_count": null,
   "metadata": {},
   "outputs": [],
   "source": [
    "analise(compras, 'details.fx.amount_usd')\n",
    "# Valor em dolar de transacao de outra origem, sem relevancia para analise"
   ]
  },
  {
   "cell_type": "code",
   "execution_count": null,
   "metadata": {},
   "outputs": [],
   "source": [
    "analise(compras, 'details.fx.precise_amount_origin')\n",
    "# Valor de transacao preciso da moeda de origem, sem relevancia para analise"
   ]
  },
  {
   "cell_type": "code",
   "execution_count": null,
   "metadata": {},
   "outputs": [],
   "source": [
    "analise(compras, 'details.fx.precise_amount_usd')\n",
    "# Valor de transacao preciso em dolar, sem relevancia para analise"
   ]
  },
  {
   "cell_type": "code",
   "execution_count": null,
   "metadata": {},
   "outputs": [],
   "source": [
    "analise(compras, 'details.fx.exchange_rate')\n",
    "# Valor do cambio, sem relevancia para analise"
   ]
  },
  {
   "cell_type": "code",
   "execution_count": null,
   "metadata": {},
   "outputs": [],
   "source": [
    "analise(compras, 'details.lat')\n",
    "# Latitude onde foi efetuada a compra"
   ]
  },
  {
   "cell_type": "code",
   "execution_count": null,
   "metadata": {},
   "outputs": [],
   "source": [
    "analise(compras, 'details.lon')\n",
    "# Longitude onde foi efetuada a compra"
   ]
  },
  {
   "cell_type": "code",
   "execution_count": null,
   "metadata": {},
   "outputs": [],
   "source": [
    "analise(compras, 'details.tags')\n",
    "# Tags associadas a compra"
   ]
  },
  {
   "attachments": {},
   "cell_type": "markdown",
   "metadata": {},
   "source": [
    "##### Fatura"
   ]
  },
  {
   "cell_type": "code",
   "execution_count": null,
   "metadata": {},
   "outputs": [],
   "source": [
    "# Colunas no dataframe\n",
    "fatura.columns"
   ]
  },
  {
   "cell_type": "code",
   "execution_count": null,
   "metadata": {},
   "outputs": [],
   "source": [
    "# Amostra dos 5 primeiros registros\n",
    "fatura.head(5)"
   ]
  },
  {
   "cell_type": "code",
   "execution_count": null,
   "metadata": {},
   "outputs": [],
   "source": [
    "analise(fatura, 'state')\n",
    "# Estado da fatura"
   ]
  },
  {
   "cell_type": "code",
   "execution_count": null,
   "metadata": {},
   "outputs": [],
   "source": [
    "analise(fatura, 'summary.due_date')\n",
    "# Data de vencimento da fatura"
   ]
  },
  {
   "cell_type": "code",
   "execution_count": null,
   "metadata": {},
   "outputs": [],
   "source": [
    "analise(fatura, 'summary.close_date')\n",
    "# Data de fechamento da fatura"
   ]
  },
  {
   "cell_type": "code",
   "execution_count": null,
   "metadata": {},
   "outputs": [],
   "source": [
    "analise(fatura, 'summary.past_balance')\n",
    "# Valor anterior da fatura"
   ]
  },
  {
   "cell_type": "code",
   "execution_count": null,
   "metadata": {},
   "outputs": [],
   "source": [
    "analise(fatura, 'summary.effective_due_date')\n",
    "# Data efetiva de vencimento da fatura"
   ]
  },
  {
   "cell_type": "code",
   "execution_count": null,
   "metadata": {},
   "outputs": [],
   "source": [
    "analise(fatura, 'summary.spent_amount')\n",
    "# Valor gasto na fatura"
   ]
  },
  {
   "cell_type": "code",
   "execution_count": null,
   "metadata": {},
   "outputs": [],
   "source": [
    "analise(fatura, 'summary.total_balance')\n",
    "# Valor total da fatura"
   ]
  },
  {
   "cell_type": "code",
   "execution_count": null,
   "metadata": {},
   "outputs": [],
   "source": [
    "analise(fatura, 'summary.interest_rate')\n",
    "# Percentual da taxa de juros, sem relevancia para analise"
   ]
  },
  {
   "cell_type": "code",
   "execution_count": null,
   "metadata": {},
   "outputs": [],
   "source": [
    "analise(fatura, 'summary.interest')\n",
    "# Taxa de juros aplicada na fatura, sem relevancia para analise"
   ]
  },
  {
   "cell_type": "code",
   "execution_count": null,
   "metadata": {},
   "outputs": [],
   "source": [
    "analise(fatura, 'summary.total_cumulative')\n",
    "# Total acumulado da fatura, sem relevancia para analise"
   ]
  },
  {
   "cell_type": "code",
   "execution_count": null,
   "metadata": {},
   "outputs": [],
   "source": [
    "analise(fatura, 'summary.paid')\n",
    "# Pago em acumulo de fatura, sem relevancia para analise"
   ]
  },
  {
   "cell_type": "code",
   "execution_count": null,
   "metadata": {},
   "outputs": [],
   "source": [
    "analise(fatura, 'summary.minimum_payment')\n",
    "# Valor de pagamento minimo da fatura, sem relevancia para analise"
   ]
  },
  {
   "cell_type": "code",
   "execution_count": null,
   "metadata": {},
   "outputs": [],
   "source": [
    "analise(fatura, 'summary.open_date')\n",
    "# Data de abertura da fatura"
   ]
  },
  {
   "cell_type": "code",
   "execution_count": null,
   "metadata": {},
   "outputs": [],
   "source": [
    "analise(fatura, 'summary.late_interest_rate')\n",
    "# Ultima taxa de juros, sem relevancia para analise"
   ]
  },
  {
   "cell_type": "code",
   "execution_count": null,
   "metadata": {},
   "outputs": [],
   "source": [
    "analise(fatura, 'summary.late_fee')\n",
    "# Ultima taxa, sem relevancia para analise"
   ]
  },
  {
   "cell_type": "code",
   "execution_count": null,
   "metadata": {},
   "outputs": [],
   "source": [
    "analise(fatura, '_links.self.href')\n",
    "# Id de transacao no servidor, sem relevancia para analise"
   ]
  },
  {
   "cell_type": "code",
   "execution_count": null,
   "metadata": {},
   "outputs": [],
   "source": [
    "analise(fatura, '_links.barcode.href')\n",
    "# Codigo de barras de pagamento com boleto,Sem relevancia para analise"
   ]
  },
  {
   "cell_type": "code",
   "execution_count": null,
   "metadata": {},
   "outputs": [],
   "source": [
    "analise(fatura, '_links.boleto_email.href')\n",
    "# Endereco do boleto, Sem relevancia para analise"
   ]
  },
  {
   "cell_type": "code",
   "execution_count": null,
   "metadata": {},
   "outputs": [],
   "source": [
    "analise(fatura, 'id')\n",
    "# Codigo de indentificacao da compra, pode ser utilizado como chave"
   ]
  },
  {
   "cell_type": "code",
   "execution_count": null,
   "metadata": {},
   "outputs": [],
   "source": [
    "analise(fatura, 'summary.remaining_balance')\n",
    "# Saldo remanescente para pagamento, sem relevancia para analise"
   ]
  },
  {
   "cell_type": "code",
   "execution_count": null,
   "metadata": {},
   "outputs": [],
   "source": [
    "analise(fatura, 'summary.remaining_minimum_payment')\n",
    "# Pagamento minimo remanescente , sem relevancia para analise"
   ]
  }
 ],
 "metadata": {
  "kernelspec": {
   "display_name": "base",
   "language": "python",
   "name": "python3"
  },
  "language_info": {
   "codemirror_mode": {
    "name": "ipython",
    "version": 3
   },
   "file_extension": ".py",
   "mimetype": "text/x-python",
   "name": "python",
   "nbconvert_exporter": "python",
   "pygments_lexer": "ipython3",
   "version": "3.9.12"
  },
  "orig_nbformat": 4,
  "vscode": {
   "interpreter": {
    "hash": "ad2bdc8ecc057115af97d19610ffacc2b4e99fae6737bb82f5d7fb13d2f2c186"
   }
  }
 },
 "nbformat": 4,
 "nbformat_minor": 2
}
