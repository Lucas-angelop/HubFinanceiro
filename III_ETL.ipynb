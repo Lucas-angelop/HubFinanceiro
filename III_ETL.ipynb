{
 "cells": [
  {
   "attachments": {},
   "cell_type": "markdown",
   "metadata": {},
   "source": [
    "### Ambiente"
   ]
  },
  {
   "cell_type": "code",
   "execution_count": 39,
   "metadata": {},
   "outputs": [],
   "source": [
    "# Bibliotecas\n",
    "import pandas as pd \n",
    "import mysql.connector as conn\n",
    "\n",
    "import os\n",
    "from dotenv import load_dotenv\n",
    "load_dotenv()"
   ]
  },
  {
   "cell_type": "code",
   "execution_count": 40,
   "metadata": {},
   "outputs": [],
   "source": [
    "# Parametros opcionais\n",
    "pd.set_option('display.max_columns', None)"
   ]
  },
  {
   "cell_type": "code",
   "execution_count": 41,
   "metadata": {},
   "outputs": [],
   "source": [
    "#> Parametros de Conexão com Banco de Dados\n",
    "mydb = \\\n",
    "conn.connect(\n",
    "              host =      os.getenv('HOST_DB'),\n",
    "              user =      os.getenv('USER_DB'),\n",
    "              password =  os.getenv('PASS_DB'),\n",
    "              database =  os.getenv('DATA_DB')\n",
    "            )"
   ]
  },
  {
   "attachments": {},
   "cell_type": "markdown",
   "metadata": {},
   "source": [
    "### Projeto"
   ]
  },
  {
   "attachments": {},
   "cell_type": "markdown",
   "metadata": {},
   "source": [
    "##### Transformacao dos dados"
   ]
  },
  {
   "cell_type": "code",
   "execution_count": 42,
   "metadata": {},
   "outputs": [],
   "source": [
    "# Leitura dos arquivos\n",
    "compras = pd.read_csv('../HubFinanceiro/Data/compras.csv',sep=',',encoding='utf-8')\n",
    "fatura = pd.read_csv('../HubFinanceiro/Data/fatura.csv',sep=',',encoding='utf-8')"
   ]
  },
  {
   "attachments": {},
   "cell_type": "markdown",
   "metadata": {},
   "source": [
    "Compras"
   ]
  },
  {
   "cell_type": "code",
   "execution_count": 43,
   "metadata": {},
   "outputs": [],
   "source": [
    "# Renomeando colunas\n",
    "compras.columns = ['ITEM','TPO_PAGAMENTO','VALOR','DAT_TRANSACAO','ORIGEM','CATEGORIA',\\\n",
    "                   'VAL_IOF','CONTA','ID_COMPRA','TOKEN','LINK','STATUS', 'CARTAO_FISICO',\\\n",
    "                   'API_ID','TAGS', 'QTD_PARCELAS', 'VAL_PARCELAS','MOEDA','VAL_MOEDA','VAL_USD',\\\n",
    "                   'VAL_PRECISO','VAL_PRECISO_USD','VAL_CAMBIO','LATITUDE','LONGITUDE']"
   ]
  },
  {
   "cell_type": "code",
   "execution_count": 45,
   "metadata": {},
   "outputs": [],
   "source": [
    "# Removendo colunas desnecessárias\n",
    "compras = compras.drop(columns=['TPO_PAGAMENTO','ORIGEM','VAL_IOF','CONTA','LINK','STATUS','API_ID'\\\n",
    "                               ,'MOEDA','VAL_MOEDA','VAL_USD','VAL_PRECISO','VAL_PRECISO_USD','VAL_CAMBIO'])"
   ]
  },
  {
   "cell_type": "code",
   "execution_count": 46,
   "metadata": {},
   "outputs": [],
   "source": [
    "# Preenchendo valores nulos\n",
    "compras['TOKEN']        = compras['TOKEN'].fillna(False)\n",
    "compras['QTD_PARCELAS'] = compras['QTD_PARCELAS'].fillna(0)\n",
    "compras['VAL_PARCELAS'] = compras['VAL_PARCELAS'].fillna(0)\n",
    "compras['LATITUDE']     = compras['LATITUDE'].fillna(0)\n",
    "compras['LONGITUDE']    = compras['LONGITUDE'].fillna(0)\n",
    "compras['TAGS']         = compras['TAGS'].fillna('-')"
   ]
  },
  {
   "cell_type": "code",
   "execution_count": 47,
   "metadata": {},
   "outputs": [],
   "source": [
    "# Padronizando data\n",
    "compras['DAT_TRANSACAO'] = pd.to_datetime(compras['DAT_TRANSACAO']) \n",
    "compras['DAT_TRANSACAO'] = compras['DAT_TRANSACAO'].dt.tz_localize(None)"
   ]
  },
  {
   "cell_type": "code",
   "execution_count": 48,
   "metadata": {},
   "outputs": [],
   "source": [
    "# Adicionando casa decimal no campo de VALOR \n",
    "compras['VALOR']        = compras.VALOR.astype(str)\n",
    "compras.VALOR           = compras.VALOR.str.slice(stop=-2)\\\n",
    "                          + '.'\\\n",
    "                          + compras.VALOR.str.slice(start=-2)"
   ]
  },
  {
   "cell_type": "code",
   "execution_count": 49,
   "metadata": {},
   "outputs": [],
   "source": [
    "# Adicionando casa decimal no campo de VAL_PARCELAS \n",
    "compras['VAL_PARCELAS'] = compras.VAL_PARCELAS.astype(int)\n",
    "compras['VAL_PARCELAS'] = compras.VAL_PARCELAS.astype(str)\n",
    "compras.VAL_PARCELAS = compras.VAL_PARCELAS.str.slice(stop=-2)\\\n",
    "                       + '.'\\\n",
    "                       + compras.VAL_PARCELAS.str.slice(start=-2)"
   ]
  },
  {
   "cell_type": "code",
   "execution_count": null,
   "metadata": {},
   "outputs": [],
   "source": [
    "# Padronizando categorias\n",
    "compras['CATEGORIA']\\\n",
    "= compras.CATEGORIA.map({'casa'          : 'Alimentacao',\\\n",
    "                         'educação'      : 'Educacao',\\\n",
    "                         'eletrônicos'   : 'Eletronicos',\\\n",
    "                         'supermecado'   : 'Alimentacao',\\\n",
    "                         'restaurante'   : 'Alimentacao',\\\n",
    "                         'saúde'         : 'Saude',\\\n",
    "                         'serviços'      : 'Servicos',\\\n",
    "                         'transporte'    : 'Transporte',\\\n",
    "                         'vestuário'     : 'Vestuario',\\\n",
    "                         'lazer'         : 'Lazer',\\\n",
    "                         'viagem'        : 'Lazer'\n",
    "                         })"
   ]
  },
  {
   "cell_type": "code",
   "execution_count": 51,
   "metadata": {},
   "outputs": [],
   "source": [
    "# Definindo tipo de dado para cada campo\n",
    "compras['ITEM']             = compras.ITEM.astype(str)\n",
    "compras['VALOR']            = compras.VALOR.astype(float)\n",
    "compras['DAT_TRANSACAO']    = compras.DAT_TRANSACAO.astype(str)\n",
    "compras['CATEGORIA']        = compras.CATEGORIA.astype(str)\n",
    "compras['ID_COMPRA']        = compras.ID_COMPRA.astype(str)\n",
    "compras['TOKEN']            = compras.TOKEN.astype(str)\n",
    "compras['CARTAO_FISICO']    = compras.CARTAO_FISICO.astype(str)\n",
    "compras['QTD_PARCELAS']     = compras.QTD_PARCELAS.astype(int)\n",
    "compras['VAL_PARCELAS']     = compras.VAL_PARCELAS.astype(float)\n",
    "compras['LATITUDE']         = compras.LATITUDE.astype(float)\n",
    "compras['LONGITUDE']        = compras.LONGITUDE.astype(float)\n",
    "compras['TAGS']             = compras.TAGS.astype(str)"
   ]
  },
  {
   "cell_type": "markdown",
   "metadata": {},
   "source": [
    "Fatura"
   ]
  },
  {
   "cell_type": "code",
   "execution_count": 52,
   "metadata": {},
   "outputs": [],
   "source": [
    "# Renomeando colunas\n",
    "fatura.columns = ['SIT_FATURA','DAT_VENCIMENTO','DAT_FECHAMENTO','VAL_ANTERIOR',\\\n",
    "                  'DAT_VENCIMENTO_EFETIVO','VAL_GASTO','VAL_TOTAL','VAL_TX_JUROS',\\\n",
    "                  'VAL_JUROS','VAL_ACUMULADO','VAL_PAGO','VAL_PAGAMENTO_MIN', 'DAT_ABERTURA',\\\n",
    "                  'VAL_TX_JUROS_ANTERIOR', 'VAL_JUROS_ANTERIOR','API_ID','COD_BARRAS_BOLETO',\\\n",
    "                  'COD_EMAIL_BOLETO','ID_FATURA','SALDO_RESTANTE','SALDO_RESTANTE_MIN']"
   ]
  },
  {
   "cell_type": "code",
   "execution_count": 53,
   "metadata": {},
   "outputs": [],
   "source": [
    "# Removendo colunas desnecessárias\n",
    "fatura = fatura.drop(columns=['VAL_ANTERIOR','VAL_GASTO','VAL_ACUMULADO','VAL_PAGO','VAL_PAGAMENTO_MIN',\\\n",
    "                              'VAL_TX_JUROS_ANTERIOR','VAL_JUROS_ANTERIOR','API_ID','COD_BARRAS_BOLETO',\\\n",
    "                              'COD_EMAIL_BOLETO','SALDO_RESTANTE','SALDO_RESTANTE_MIN'])"
   ]
  },
  {
   "cell_type": "code",
   "execution_count": 54,
   "metadata": {},
   "outputs": [],
   "source": [
    "# Preenchendo valores nulos\n",
    "fatura['VAL_JUROS']    = fatura['VAL_JUROS'].fillna(0)\n",
    "fatura['ID_FATURA']    = fatura['ID_FATURA'].fillna('-')"
   ]
  },
  {
   "cell_type": "code",
   "execution_count": 55,
   "metadata": {},
   "outputs": [],
   "source": [
    "# Traduzindo campo SIT_FATURA\n",
    "fatura['SIT_FATURA']\\\n",
    "= fatura.SIT_FATURA.map({'open'    : 'Aberta',\\\n",
    "                         'overdue' : 'Fechada',\\\n",
    "                         'future'  : 'Futura'})"
   ]
  },
  {
   "cell_type": "code",
   "execution_count": 56,
   "metadata": {},
   "outputs": [],
   "source": [
    "# Adicionando casa decimal no campo de VAL_TOTAL \n",
    "fatura['VAL_TOTAL']        = fatura.VAL_TOTAL.astype(str)\n",
    "fatura.VAL_TOTAL           = fatura.VAL_TOTAL.str.slice(stop=-2)\\\n",
    "                             + '.'\\\n",
    "                             + fatura.VAL_TOTAL.str.slice(start=-2)"
   ]
  },
  {
   "attachments": {},
   "cell_type": "markdown",
   "metadata": {},
   "source": [
    "##### Armazenamento dos dados"
   ]
  },
  {
   "cell_type": "code",
   "execution_count": 59,
   "metadata": {},
   "outputs": [],
   "source": [
    "# Conectando ao banco de dados\n",
    "mycursor = mydb.cursor()"
   ]
  },
  {
   "cell_type": "code",
   "execution_count": 60,
   "metadata": {},
   "outputs": [
    {
     "name": "stdout",
     "output_type": "stream",
     "text": [
      "601 Registros Inseridos.\n",
      "71 registros inseridos.\n"
     ]
    }
   ],
   "source": [
    "# Inserindo informação no Banco de dados\n",
    "\n",
    "# Compras\n",
    "for row in compras.iterrows():              # Percorrendo todas as linhas do dataframe\n",
    "\n",
    "    sql = \"INSERT INTO NU_CARTAO \\\n",
    "           (ITEM, VALOR, DAT_TRANSACAO, CATEGORIA, ID_COMPRA, TOKEN, CARTAO_FISICO,disc TAGS, QTD_PARCELAS, VAL_PARCELAS, LATITUDE, LONGITUDE)\\\n",
    "           VALUES (%s, %s, %s, %s, %s, %s, %s, %s, %s, %s, %s, %s)\"\n",
    "    \n",
    "    val =  list(row[1])                     # Atribuindo cada linha a uma lista \n",
    "    mycursor.executemany(sql, (val,))       # Executando comando\n",
    "    \n",
    "mydb.commit()\n",
    "print(compras.shape[0], \"Registros Inseridos.\")\n",
    "\n",
    "# Fatura\n",
    "for row in fatura.iterrows():\n",
    "    sql = \"INSERT INTO NU_FATURA \\\n",
    "           (SIT_FATURA, DAT_VENCIMENTO, DAT_FECHAMENTO, DAT_VENCIMENTO_EFETIVO, VAL_TOTAL, VAL_TX_JUROS, VAL_JUROS, DAT_ABERTURA, ID_FATURA)\\\n",
    "           VALUES (%s, %s, %s, %s, %s, %s, %s, %s, %s)\"\n",
    "    val =  list(row[1])\n",
    "    mycursor.executemany(sql, (val,))\n",
    "\n",
    "mydb.commit()\n",
    "print(fatura.shape[0], \"registros inseridos.\")"
   ]
  },
  {
   "cell_type": "code",
   "execution_count": 61,
   "metadata": {},
   "outputs": [
    {
     "name": "stdout",
     "output_type": "stream",
     "text": [
      "Loggout Sucess to: <mysql.connector.connection.MySQLConnection object at 0x0000028EFC026370>\n"
     ]
    }
   ],
   "source": [
    "# Desconectando do Banco de dados\n",
    "mycursor.close()\n",
    "mydb.close()\n",
    "\n",
    "print('Loggout Sucess to:', mydb)"
   ]
  }
 ],
 "metadata": {
  "kernelspec": {
   "display_name": "base",
   "language": "python",
   "name": "python3"
  },
  "language_info": {
   "codemirror_mode": {
    "name": "ipython",
    "version": 3
   },
   "file_extension": ".py",
   "mimetype": "text/x-python",
   "name": "python",
   "nbconvert_exporter": "python",
   "pygments_lexer": "ipython3",
   "version": "3.9.12"
  },
  "orig_nbformat": 4,
  "vscode": {
   "interpreter": {
    "hash": "ad2bdc8ecc057115af97d19610ffacc2b4e99fae6737bb82f5d7fb13d2f2c186"
   }
  }
 },
 "nbformat": 4,
 "nbformat_minor": 2
}
