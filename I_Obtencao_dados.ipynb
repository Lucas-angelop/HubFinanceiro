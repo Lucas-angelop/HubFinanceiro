{
 "cells": [
  {
   "cell_type": "markdown",
   "metadata": {},
   "source": [
    "### Ambiente"
   ]
  },
  {
   "cell_type": "code",
   "execution_count": 1,
   "metadata": {},
   "outputs": [],
   "source": [
    "# Bibliotecas\n",
    "import pandas as pd\n",
    "import os\n",
    "from dotenv import load_dotenv\n",
    "load_dotenv()\n",
    "\n",
    "from pynubank import Nubank\n",
    "nu = Nubank()"
   ]
  },
  {
   "cell_type": "markdown",
   "metadata": {},
   "source": [
    "#### Autenticação"
   ]
  },
  {
   "cell_type": "markdown",
   "metadata": {},
   "source": [
    "Usuario via QRCode"
   ]
  },
  {
   "cell_type": "code",
   "execution_count": 2,
   "metadata": {},
   "outputs": [],
   "source": [
    "# Dados do usuario com Nubank\n",
    "login = os.getenv('LOGIN')\n",
    "senha = os.getenv('SENHA')"
   ]
  },
  {
   "cell_type": "code",
   "execution_count": null,
   "metadata": {},
   "outputs": [],
   "source": [
    "# QRCODE para Autenticação\n",
    "uuid, qr_code = nu.get_qr_code()\n",
    "qr_code.print_ascii(invert=True)\n",
    "input('Quase lá! Confirme seu login pelo QRCode no App')"
   ]
  },
  {
   "cell_type": "markdown",
   "metadata": {},
   "source": [
    "Request ao Servidor"
   ]
  },
  {
   "cell_type": "code",
   "execution_count": null,
   "metadata": {},
   "outputs": [],
   "source": [
    "# Conexão via QR Code\n",
    "nu.authenticate_with_qr_code(login, senha, uuid)"
   ]
  },
  {
   "cell_type": "markdown",
   "metadata": {},
   "source": [
    "#### Obteção dos dados"
   ]
  },
  {
   "cell_type": "code",
   "execution_count": null,
   "metadata": {},
   "outputs": [],
   "source": [
    "# Obtendo os dados históricos de compras no cartão\n",
    "compras = nu.get_card_statements()\n",
    "\n",
    "# Obtendo os dados históricos das faturas\n",
    "fatura = nu.get_bills()"
   ]
  },
  {
   "cell_type": "code",
   "execution_count": null,
   "metadata": {},
   "outputs": [],
   "source": [
    "# Normalizando o Json\n",
    "compras = pd.json_normalize(compras)\n",
    "fatura = pd.json_normalize(fatura)"
   ]
  },
  {
   "cell_type": "code",
   "execution_count": null,
   "metadata": {},
   "outputs": [],
   "source": [
    "# Criando Dataframes do Pandas para tratamento\n",
    "compras = pd.DataFrame(compras)\n",
    "fatura = pd.DataFrame(fatura)"
   ]
  },
  {
   "cell_type": "code",
   "execution_count": null,
   "metadata": {},
   "outputs": [],
   "source": [
    "# Salvando dados para analise - Assim evitando varias requisicoes  \n",
    "compras.to_csv('../HubFinanceiro/Data/compras.csv',sep=',',index=False, encoding='utf-8')\n",
    "fatura.to_csv('../HubFinanceiro/Data/fatura.csv',sep=',',index=False, encoding='utf-8')"
   ]
  }
 ],
 "metadata": {
  "kernelspec": {
   "display_name": "base",
   "language": "python",
   "name": "python3"
  },
  "language_info": {
   "codemirror_mode": {
    "name": "ipython",
    "version": 3
   },
   "file_extension": ".py",
   "mimetype": "text/x-python",
   "name": "python",
   "nbconvert_exporter": "python",
   "pygments_lexer": "ipython3",
   "version": "3.9.12"
  },
  "orig_nbformat": 4
 },
 "nbformat": 4,
 "nbformat_minor": 2
}
